{
 "cells": [
  {
   "cell_type": "code",
   "execution_count": 1,
   "metadata": {},
   "outputs": [],
   "source": [
    "import pandas as pd\n",
    "import numpy as np\n",
    "import os\n",
    "import pathlib\n",
    "import pdfminer\n",
    "from pdfminer.high_level import extract_text\n",
    "from PyPDF2 import PdfFileMerger\n",
    "from datetime import datetime"
   ]
  },
  {
   "cell_type": "markdown",
   "metadata": {},
   "source": [
    "# User-specified inputs"
   ]
  },
  {
   "cell_type": "code",
   "execution_count": 2,
   "metadata": {},
   "outputs": [],
   "source": [
    "patient_id = 'PR05'\n",
    "start, stop = '20231218_1845', '20231219_0726'\n",
    "INDIR = '/userdata/dastudillo/patient_data/tmp/'\n",
    "OUTDIR = '/userdata/dastudillo/patient_data/tmp/'\n",
    "fn_merged = f'{patient_id}_{start}-{stop}_merged.pdf'\n",
    "fn_parsed = f'{patient_id}_{start}-{stop}_parsed.csv'"
   ]
  },
  {
   "cell_type": "code",
   "execution_count": 3,
   "metadata": {},
   "outputs": [],
   "source": [
    "#Get list of files specifying folder path and file format as string\n",
    "def GetFilePaths(FileDirectory, FileFormat):\n",
    "    FileNames = sorted(filter(lambda x: True if FileFormat in x else False, os.listdir(FileDirectory)))\n",
    "    FilePaths = []\n",
    "    for i in range(len(FileNames)):\n",
    "        FilePaths.append(FileDirectory+FileNames[i])\n",
    "    return FilePaths"
   ]
  },
  {
   "cell_type": "code",
   "execution_count": 4,
   "metadata": {},
   "outputs": [],
   "source": [
    "file_paths = GetFilePaths(INDIR, 'pdf')"
   ]
  },
  {
   "cell_type": "code",
   "execution_count": 5,
   "metadata": {},
   "outputs": [
    {
     "data": {
      "text/plain": [
       "['/userdata/dastudillo/patient_data/tmp/market_pdf_report_xmlfile_70.php-3.pdf',\n",
       " '/userdata/dastudillo/patient_data/tmp/market_pdf_report_xmlfile_70.php-4.pdf']"
      ]
     },
     "execution_count": 5,
     "metadata": {},
     "output_type": "execute_result"
    }
   ],
   "source": [
    "file_paths"
   ]
  },
  {
   "cell_type": "markdown",
   "metadata": {},
   "source": [
    "# Merge files"
   ]
  },
  {
   "cell_type": "code",
   "execution_count": 6,
   "metadata": {},
   "outputs": [],
   "source": [
    "#Merge interrogation reports in one file for parsing\n",
    "\n",
    "#create and instance of PdfFileMerger() class\n",
    "merger = PdfFileMerger()\n",
    "\n",
    "#iterate over the list of file paths\n",
    "for file in file_paths:\n",
    "    #Append PDF files\n",
    "    merger.append(file)\n",
    "#write out the merged PDF\n",
    "merger.write(f'{OUTDIR}{fn_merged}')\n",
    "merger.close()\n",
    "\n",
    "# Assign path to stored merged pdf\n",
    "merged_pdf_path = f'{OUTDIR}{fn_merged}'"
   ]
  },
  {
   "cell_type": "markdown",
   "metadata": {},
   "source": [
    "# Extract text"
   ]
  },
  {
   "cell_type": "code",
   "execution_count": 7,
   "metadata": {},
   "outputs": [],
   "source": [
    "#Extract all text from pdf \n",
    "text = extract_text(merged_pdf_path)\n",
    "\n",
    "#Create list with strings\n",
    "lines = text.split('\\n')"
   ]
  },
  {
   "cell_type": "code",
   "execution_count": 8,
   "metadata": {},
   "outputs": [],
   "source": [
    "#Select timestamp, duration and type of event \n",
    "\n",
    "EventTimestamp = [a for a in lines if ('Mon,' in a or 'Tue,' in a or 'Wed,' in a or 'Thu,' in a or 'Fri,' in a \n",
    "                                       or 'Sat,' in a or 'Sun,' in a)]\n",
    "\n",
    "EventDuration = [b for b in lines if ('seconds' in b or 'second' in b)]\n",
    "\n",
    "EventType = [c for c in lines if ('Pattern A2' in c \n",
    "                                   or 'Pattern A1' in c\n",
    "                                   or 'Pattern B1' in c\n",
    "                                   or 'Pattern B2' in c\n",
    "                                   or 'Pattern A1A2' in c\n",
    "                                   or 'Pattern B1B2' in c\n",
    "                                   or 'Magnet applied' in c)]"
   ]
  },
  {
   "cell_type": "code",
   "execution_count": 9,
   "metadata": {},
   "outputs": [
    {
     "name": "stdout",
     "output_type": "stream",
     "text": [
      "406\n",
      "406\n",
      "406\n"
     ]
    }
   ],
   "source": [
    "#Make sure the list sizes coincide otherwise \n",
    "#there might be a missing or additional set of strings (edit cell above to correct)\n",
    "print(len(EventTimestamp));print(len(EventDuration));print(len(EventType))"
   ]
  },
  {
   "cell_type": "markdown",
   "metadata": {},
   "source": [
    "# Create initial df"
   ]
  },
  {
   "cell_type": "code",
   "execution_count": 10,
   "metadata": {},
   "outputs": [],
   "source": [
    "#Create list of lists that will be use as input data for final dataframe columns\n",
    "data_for_df = []\n",
    "for i in range(len(EventTimestamp)):\n",
    "    data_for_df.append([EventTimestamp[i], EventDuration[i], EventType[i]])\n",
    "    i+=1    "
   ]
  },
  {
   "cell_type": "code",
   "execution_count": 11,
   "metadata": {},
   "outputs": [],
   "source": [
    "#Create initial dataframe\n",
    "to_df = pd.DataFrame(data_for_df, columns = ['EventTimestamp', 'EventDuration', 'EventType'])\n",
    "to_df['EventDuration'] = to_df['EventDuration'].str.replace('seconds','') #get rid of string so duration is numerical data"
   ]
  },
  {
   "cell_type": "code",
   "execution_count": 12,
   "metadata": {},
   "outputs": [],
   "source": [
    "#Convert timestamps to datetime object\n",
    "timestamps_list = list(to_df['EventTimestamp'])\n",
    "timestamps_datetime =  []\n",
    "\n",
    "for i in range(len(timestamps_list)):\n",
    "    timestamps_datetime.append(datetime.strptime(timestamps_list[i], '%a, %b %d, %Y %H:%M:%S'))\n",
    "    i+=1\n",
    "\n",
    "#update timestamps in dataframe    \n",
    "to_df['EventTimestamp'] = timestamps_datetime\n",
    "to_df = to_df.sort_values(by='EventTimestamp')"
   ]
  },
  {
   "cell_type": "markdown",
   "metadata": {},
   "source": [
    "# Add detection and stim counts"
   ]
  },
  {
   "cell_type": "code",
   "execution_count": 14,
   "metadata": {},
   "outputs": [],
   "source": [
    "parsed_df = to_df.copy()"
   ]
  },
  {
   "cell_type": "code",
   "execution_count": 15,
   "metadata": {},
   "outputs": [],
   "source": [
    "#Assign detections for pattern A1\n",
    "\n",
    "conditions = [\n",
    "    (to_df['EventType'].isin([d for d in to_df['EventType'] if ('Pattern A1 ; 1 Responsive Therapy' in d or 'Pattern A1 ; 1 Responsive Therapy; Insufficient Charge;' in d)])),\n",
    "    (to_df['EventType'].isin([e for e in to_df['EventType'] if ('Pattern A1 ; 2 Responsive Therapies' in e or 'Pattern A1 ; 2 Responsive Therapies; Insufficient Charge;' in e)])),\n",
    "    (to_df['EventType'].isin([f for f in to_df['EventType'] if ('Pattern A1 ; 3 Responsive Therapies' in f or 'Pattern A1 ; 3 Responsive Therapies; Insufficient Charge;' in f)])),\n",
    "    (to_df['EventType'].isin([g for g in to_df['EventType'] if ('Pattern A1 ; 4 Responsive Therapies' in g or 'Pattern A1 ; 4 Responsive Therapies; Insufficient Charge;' in g)])),\n",
    "    (to_df['EventType'].isin([j for j in to_df['EventType'] if ('Pattern A1 ; 5 Responsive Therapies' in j or 'Pattern A1 ; 5 Responsive Therapies; Insufficient Charge;' in j)])),\n",
    "    (to_df['EventType'].isin([k for k in to_df['EventType'] if ('Pattern A1 Therapy Delivery Inhibited by' in k)])), #will consider events inhibited by cap limit or PEI\n",
    "    (to_df['EventType'] == 'Magnet applied')\n",
    "    ]\n",
    "\n",
    "# create a list of the values we want to assign for each condition\n",
    "values = ['1', '2', '3', '4', '5', '1', '0']\n",
    "\n",
    "# create a new column and use np.select to assign values to it using our lists as arguments\n",
    "parsed_df['Pattern_A1'] = np.select(conditions, values)"
   ]
  },
  {
   "cell_type": "code",
   "execution_count": 16,
   "metadata": {},
   "outputs": [],
   "source": [
    "#Assign detections for pattern A2\n",
    "\n",
    "conditions = [\n",
    "    (to_df['EventType'].isin([d for d in to_df['EventType'] if ('Pattern A2 ; 1 Responsive Therapy' in d or 'Pattern A2 ; 1 Responsive Therapy; Insufficient Charge;' in d)])),\n",
    "    (to_df['EventType'].isin([e for e in to_df['EventType'] if ('Pattern A2 ; 2 Responsive Therapies' in e or 'Pattern A2 ; 2 Responsive Therapies; Insufficient Charge;' in e)])),\n",
    "    (to_df['EventType'].isin([f for f in to_df['EventType'] if ('Pattern A2 ; 3 Responsive Therapies' in f or 'Pattern A2 ; 3 Responsive Therapies; Insufficient Charge;' in f)])),\n",
    "    (to_df['EventType'].isin([g for g in to_df['EventType'] if ('Pattern A2 ; 4 Responsive Therapies' in g or 'Pattern A2 ; 4 Responsive Therapies; Insufficient Charge;' in g)])),\n",
    "    (to_df['EventType'].isin([j for j in to_df['EventType'] if ('Pattern A2 ; 5 Responsive Therapies' in j or 'Pattern A2 ; 5 Responsive Therapies; Insufficient Charge;' in j)])),\n",
    "    (to_df['EventType'].isin([k for k in to_df['EventType'] if ('Pattern A2 Therapy Delivery Inhibited by' in k)])),\n",
    "    (to_df['EventType'] == 'Magnet applied')\n",
    "    ]\n",
    "\n",
    "# create a list of the values we want to assign for each condition\n",
    "values = ['1', '2', '3', '4', '5', '1', '0']\n",
    "\n",
    "# create a new column and use np.select to assign values to it using our lists as arguments\n",
    "parsed_df['Pattern_A2'] = np.select(conditions, values)"
   ]
  },
  {
   "cell_type": "code",
   "execution_count": 17,
   "metadata": {},
   "outputs": [],
   "source": [
    "#Assign detections for pattern B1\n",
    "\n",
    "conditions = [\n",
    "    (to_df['EventType'].isin([d for d in to_df['EventType'] if ('Pattern B1 ; 1 Responsive Therapy' in d or 'Pattern B1 ; 1 Responsive Therapy; Insufficient Charge;' in d)])),\n",
    "    (to_df['EventType'].isin([e for e in to_df['EventType'] if ('Pattern B1 ; 2 Responsive Therapies' in e or 'Pattern B1 ; 2 Responsive Therapies; Insufficient Charge;' in e)])),\n",
    "    (to_df['EventType'].isin([f for f in to_df['EventType'] if ('Pattern B1 ; 3 Responsive Therapies' in f or 'Pattern B1 ; 3 Responsive Therapies; Insufficient Charge;' in f)])),\n",
    "    (to_df['EventType'].isin([g for g in to_df['EventType'] if ('Pattern B1 ; 4 Responsive Therapies' in g or 'Pattern B1 ; 4 Responsive Therapies; Insufficient Charge;' in g)])),\n",
    "    (to_df['EventType'].isin([j for j in to_df['EventType'] if ('Pattern B1 ; 5 Responsive Therapies' in j or 'Pattern B1 ; 5 Responsive Therapies; Insufficient Charge;' in j)])),\n",
    "    (to_df['EventType'].isin([k for k in to_df['EventType'] if ('Pattern B1 Therapy Delivery Inhibited by' in k)])),\n",
    "    (to_df['EventType'] == 'Magnet applied')\n",
    "    ]\n",
    "\n",
    "# create a list of the values we want to assign for each condition\n",
    "values = ['1', '2', '3', '4', '5', '1', '0']\n",
    "\n",
    "# create a new column and use np.select to assign values to it using our lists as arguments\n",
    "parsed_df['Pattern_B1'] = np.select(conditions, values)"
   ]
  },
  {
   "cell_type": "code",
   "execution_count": 18,
   "metadata": {},
   "outputs": [],
   "source": [
    "#Assign detections for pattern B2\n",
    "\n",
    "conditions = [\n",
    "    (to_df['EventType'].isin([d for d in to_df['EventType'] if ('Pattern B2 ; 1 Responsive Therapy' in d or 'Pattern B2 ; 1 Responsive Therapy; Insufficient Charge;' in d)])),\n",
    "    (to_df['EventType'].isin([e for e in to_df['EventType'] if ('Pattern B2 ; 2 Responsive Therapies' in e or 'Pattern B2 ; 2 Responsive Therapies; Insufficient Charge;' in e)])),\n",
    "    (to_df['EventType'].isin([f for f in to_df['EventType'] if ('Pattern B2 ; 3 Responsive Therapies' in f or 'Pattern B2 ; 3 Responsive Therapies; Insufficient Charge;' in f)])),\n",
    "    (to_df['EventType'].isin([g for g in to_df['EventType'] if ('Pattern B2 ; 4 Responsive Therapies' in g or 'Pattern B2 ; 4 Responsive Therapies; Insufficient Charge;' in g)])),\n",
    "    (to_df['EventType'].isin([j for j in to_df['EventType'] if ('Pattern B2 ; 5 Responsive Therapies' in j or 'Pattern B2 ; 5 Responsive Therapies; Insufficient Charge;' in j)])),\n",
    "    (to_df['EventType'].isin([k for k in to_df['EventType'] if ('Pattern B2 Therapy Delivery Inhibited by' in k)])),\n",
    "    (to_df['EventType'] == 'Magnet applied')\n",
    "    ]\n",
    "\n",
    "# create a list of the values we want to assign for each condition\n",
    "values = ['1', '2', '3', '4', '5', '1', '0']\n",
    "\n",
    "# create a new column and use np.select to assign values to it using our lists as arguments\n",
    "parsed_df['Pattern_B2'] = np.select(conditions, values)"
   ]
  },
  {
   "cell_type": "code",
   "execution_count": 19,
   "metadata": {},
   "outputs": [],
   "source": [
    "#Assign therapies count\n",
    "\n",
    "conditions = [\n",
    "        (to_df['EventType'].isin([x for x in to_df['EventType'] if ('Pattern A1 ; 1 Responsive Therapy' in x or 'Pattern A1 ; 1 Responsive Therapy; Insufficient Charge;' in x)])),\n",
    "    (to_df['EventType'].isin([x for x in to_df['EventType'] if ('Pattern A1 ; 2 Responsive Therapies' in x or 'Pattern A1 ; 2 Responsive Therapies; Insufficient Charge;' in x)])),\n",
    "    (to_df['EventType'].isin([f for f in to_df['EventType'] if ('Pattern A1 ; 3 Responsive Therapies' in f or 'Pattern A1 ; 3 Responsive Therapies; Insufficient Charge;' in f)])),\n",
    "    (to_df['EventType'].isin([g for g in to_df['EventType'] if ('Pattern A1 ; 4 Responsive Therapies' in g or 'Pattern A1 ; 4 Responsive Therapies; Insufficient Charge;' in g)])),\n",
    "    (to_df['EventType'].isin([j for j in to_df['EventType'] if ('Pattern A1 ; 5 Responsive Therapies' in j or 'Pattern A1 ; 5 Responsive Therapies; Insufficient Charge;' in j)])),\n",
    "    (to_df['EventType'].isin([k for k in to_df['EventType'] if ('Pattern A1 Therapy Delivery Inhibited by' in k)])),\n",
    "    (to_df['EventType'].isin([l for l in to_df['EventType'] if ('Pattern A2 ; 1 Responsive Therapy' in l or 'Pattern A2 ; 1 Responsive Therapy; Insufficient Charge;' in l)])),\n",
    "    (to_df['EventType'].isin([m for m in to_df['EventType'] if ('Pattern A2 ; 2 Responsive Therapies' in m or 'Pattern A2 ; 2 Responsive Therapies; Insufficient Charge;' in m)])),\n",
    "    (to_df['EventType'].isin([n for n in to_df['EventType'] if ('Pattern A2 ; 3 Responsive Therapies' in n or 'Pattern A2 ; 3 Responsive Therapies; Insufficient Charge;' in n)])),\n",
    "    (to_df['EventType'].isin([o for o in to_df['EventType'] if ('Pattern A2 ; 4 Responsive Therapies' in o or 'Pattern A2 ; 4 Responsive Therapies; Insufficient Charge;' in o)])),\n",
    "    (to_df['EventType'].isin([p for p in to_df['EventType'] if ('Pattern A2 ; 5 Responsive Therapies' in p or 'Pattern A2 ; 5 Responsive Therapies; Insufficient Charge;' in p)])),\n",
    "    (to_df['EventType'].isin([q for q in to_df['EventType'] if ('Pattern A2 Therapy Delivery Inhibited by' in q)])),\n",
    "    (to_df['EventType'] == 'Magnet applied')\n",
    "    ]\n",
    "\n",
    "# create a list of the values we want to assign for each condition\n",
    "values = ['1', '2', '3', '4', '5', '0', '1', '2', '3', '4', '5', '0', '0']\n",
    "\n",
    "# create a new column and use np.select to assign values to it using our lists as arguments\n",
    "parsed_df['Therapies'] = np.select(conditions, values)"
   ]
  },
  {
   "cell_type": "code",
   "execution_count": 20,
   "metadata": {},
   "outputs": [
    {
     "data": {
      "text/html": [
       "<div>\n",
       "<style scoped>\n",
       "    .dataframe tbody tr th:only-of-type {\n",
       "        vertical-align: middle;\n",
       "    }\n",
       "\n",
       "    .dataframe tbody tr th {\n",
       "        vertical-align: top;\n",
       "    }\n",
       "\n",
       "    .dataframe thead th {\n",
       "        text-align: right;\n",
       "    }\n",
       "</style>\n",
       "<table border=\"1\" class=\"dataframe\">\n",
       "  <thead>\n",
       "    <tr style=\"text-align: right;\">\n",
       "      <th></th>\n",
       "      <th>EventTimestamp</th>\n",
       "      <th>EventDuration</th>\n",
       "      <th>EventType</th>\n",
       "      <th>Pattern_A1</th>\n",
       "      <th>Pattern_A2</th>\n",
       "      <th>Pattern_B1</th>\n",
       "      <th>Pattern_B2</th>\n",
       "      <th>Therapies</th>\n",
       "    </tr>\n",
       "  </thead>\n",
       "  <tbody>\n",
       "    <tr>\n",
       "      <th>0</th>\n",
       "      <td>2024-02-21 13:02:10</td>\n",
       "      <td>2.5</td>\n",
       "      <td>Pattern A1 Therapy Delivery Inhibited by Thera...</td>\n",
       "      <td>1</td>\n",
       "      <td>0</td>\n",
       "      <td>0</td>\n",
       "      <td>0</td>\n",
       "      <td>0</td>\n",
       "    </tr>\n",
       "    <tr>\n",
       "      <th>1</th>\n",
       "      <td>2024-02-21 13:03:09</td>\n",
       "      <td>3.0</td>\n",
       "      <td>Pattern A1 Therapy Delivery Inhibited by Thera...</td>\n",
       "      <td>1</td>\n",
       "      <td>0</td>\n",
       "      <td>0</td>\n",
       "      <td>0</td>\n",
       "      <td>0</td>\n",
       "    </tr>\n",
       "    <tr>\n",
       "      <th>2</th>\n",
       "      <td>2024-02-21 13:05:12</td>\n",
       "      <td>2.5</td>\n",
       "      <td>Pattern A1 Therapy Delivery Inhibited by Thera...</td>\n",
       "      <td>1</td>\n",
       "      <td>0</td>\n",
       "      <td>0</td>\n",
       "      <td>0</td>\n",
       "      <td>0</td>\n",
       "    </tr>\n",
       "    <tr>\n",
       "      <th>3</th>\n",
       "      <td>2024-02-21 13:05:46</td>\n",
       "      <td>2.5</td>\n",
       "      <td>Pattern A1 Therapy Delivery Inhibited by Thera...</td>\n",
       "      <td>1</td>\n",
       "      <td>0</td>\n",
       "      <td>0</td>\n",
       "      <td>0</td>\n",
       "      <td>0</td>\n",
       "    </tr>\n",
       "    <tr>\n",
       "      <th>4</th>\n",
       "      <td>2024-02-21 13:06:35</td>\n",
       "      <td>2.5</td>\n",
       "      <td>Pattern A1 Therapy Delivery Inhibited by Thera...</td>\n",
       "      <td>1</td>\n",
       "      <td>0</td>\n",
       "      <td>0</td>\n",
       "      <td>0</td>\n",
       "      <td>0</td>\n",
       "    </tr>\n",
       "    <tr>\n",
       "      <th>...</th>\n",
       "      <td>...</td>\n",
       "      <td>...</td>\n",
       "      <td>...</td>\n",
       "      <td>...</td>\n",
       "      <td>...</td>\n",
       "      <td>...</td>\n",
       "      <td>...</td>\n",
       "      <td>...</td>\n",
       "    </tr>\n",
       "    <tr>\n",
       "      <th>401</th>\n",
       "      <td>2024-02-22 00:57:14</td>\n",
       "      <td>2.5</td>\n",
       "      <td>Pattern A1 Therapy Delivery Inhibited by Thera...</td>\n",
       "      <td>1</td>\n",
       "      <td>0</td>\n",
       "      <td>0</td>\n",
       "      <td>0</td>\n",
       "      <td>0</td>\n",
       "    </tr>\n",
       "    <tr>\n",
       "      <th>402</th>\n",
       "      <td>2024-02-22 00:57:51</td>\n",
       "      <td>2.5</td>\n",
       "      <td>Pattern A1 Therapy Delivery Inhibited by Thera...</td>\n",
       "      <td>1</td>\n",
       "      <td>0</td>\n",
       "      <td>0</td>\n",
       "      <td>0</td>\n",
       "      <td>0</td>\n",
       "    </tr>\n",
       "    <tr>\n",
       "      <th>403</th>\n",
       "      <td>2024-02-22 01:02:36</td>\n",
       "      <td>0</td>\n",
       "      <td>Magnet applied</td>\n",
       "      <td>0</td>\n",
       "      <td>0</td>\n",
       "      <td>0</td>\n",
       "      <td>0</td>\n",
       "      <td>0</td>\n",
       "    </tr>\n",
       "    <tr>\n",
       "      <th>404</th>\n",
       "      <td>2024-02-22 01:03:48</td>\n",
       "      <td>3.0</td>\n",
       "      <td>Pattern A1 Therapy Delivery Inhibited by Thera...</td>\n",
       "      <td>1</td>\n",
       "      <td>0</td>\n",
       "      <td>0</td>\n",
       "      <td>0</td>\n",
       "      <td>0</td>\n",
       "    </tr>\n",
       "    <tr>\n",
       "      <th>405</th>\n",
       "      <td>2024-02-22 01:04:36</td>\n",
       "      <td>3.0</td>\n",
       "      <td>Pattern A1 Therapy Delivery Inhibited by Thera...</td>\n",
       "      <td>1</td>\n",
       "      <td>0</td>\n",
       "      <td>0</td>\n",
       "      <td>0</td>\n",
       "      <td>0</td>\n",
       "    </tr>\n",
       "  </tbody>\n",
       "</table>\n",
       "<p>406 rows × 8 columns</p>\n",
       "</div>"
      ],
      "text/plain": [
       "         EventTimestamp EventDuration  \\\n",
       "0   2024-02-21 13:02:10          2.5    \n",
       "1   2024-02-21 13:03:09          3.0    \n",
       "2   2024-02-21 13:05:12          2.5    \n",
       "3   2024-02-21 13:05:46          2.5    \n",
       "4   2024-02-21 13:06:35          2.5    \n",
       "..                  ...           ...   \n",
       "401 2024-02-22 00:57:14          2.5    \n",
       "402 2024-02-22 00:57:51          2.5    \n",
       "403 2024-02-22 01:02:36            0    \n",
       "404 2024-02-22 01:03:48          3.0    \n",
       "405 2024-02-22 01:04:36          3.0    \n",
       "\n",
       "                                             EventType Pattern_A1 Pattern_A2  \\\n",
       "0    Pattern A1 Therapy Delivery Inhibited by Thera...          1          0   \n",
       "1    Pattern A1 Therapy Delivery Inhibited by Thera...          1          0   \n",
       "2    Pattern A1 Therapy Delivery Inhibited by Thera...          1          0   \n",
       "3    Pattern A1 Therapy Delivery Inhibited by Thera...          1          0   \n",
       "4    Pattern A1 Therapy Delivery Inhibited by Thera...          1          0   \n",
       "..                                                 ...        ...        ...   \n",
       "401  Pattern A1 Therapy Delivery Inhibited by Thera...          1          0   \n",
       "402  Pattern A1 Therapy Delivery Inhibited by Thera...          1          0   \n",
       "403                                     Magnet applied          0          0   \n",
       "404  Pattern A1 Therapy Delivery Inhibited by Thera...          1          0   \n",
       "405  Pattern A1 Therapy Delivery Inhibited by Thera...          1          0   \n",
       "\n",
       "    Pattern_B1 Pattern_B2 Therapies  \n",
       "0            0          0         0  \n",
       "1            0          0         0  \n",
       "2            0          0         0  \n",
       "3            0          0         0  \n",
       "4            0          0         0  \n",
       "..         ...        ...       ...  \n",
       "401          0          0         0  \n",
       "402          0          0         0  \n",
       "403          0          0         0  \n",
       "404          0          0         0  \n",
       "405          0          0         0  \n",
       "\n",
       "[406 rows x 8 columns]"
      ]
     },
     "execution_count": 20,
     "metadata": {},
     "output_type": "execute_result"
    }
   ],
   "source": [
    "#Check tabulated data\n",
    "parsed_df = parsed_df.reset_index(drop=True)\n",
    "parsed_df"
   ]
  },
  {
   "cell_type": "markdown",
   "metadata": {},
   "source": [
    "# Save final df"
   ]
  },
  {
   "cell_type": "code",
   "execution_count": 21,
   "metadata": {},
   "outputs": [],
   "source": [
    "parsed_df.to_csv(f'{OUTDIR}{fn_parsed}')"
   ]
  }
 ],
 "metadata": {
  "kernelspec": {
   "display_name": "Python 3 (ipykernel)",
   "language": "python",
   "name": "python3"
  },
  "language_info": {
   "codemirror_mode": {
    "name": "ipython",
    "version": 3
   },
   "file_extension": ".py",
   "mimetype": "text/x-python",
   "name": "python",
   "nbconvert_exporter": "python",
   "pygments_lexer": "ipython3",
   "version": "3.10.13"
  },
  "toc": {
   "base_numbering": 1,
   "nav_menu": {},
   "number_sections": true,
   "sideBar": true,
   "skip_h1_title": false,
   "title_cell": "Table of Contents",
   "title_sidebar": "Contents",
   "toc_cell": false,
   "toc_position": {
    "height": "calc(100% - 180px)",
    "left": "10px",
    "top": "150px",
    "width": "288px"
   },
   "toc_section_display": true,
   "toc_window_display": true
  }
 },
 "nbformat": 4,
 "nbformat_minor": 4
}
